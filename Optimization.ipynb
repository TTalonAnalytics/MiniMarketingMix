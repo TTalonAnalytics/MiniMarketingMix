{
 "cells": [
  {
   "cell_type": "code",
   "execution_count": 0,
   "metadata": {},
   "outputs": [],
   "source": [
    "# -*- coding: utf-8 -*-\n",
    "import dataiku\n",
    "import pandas as pd, numpy as np\n",
    "from dataiku import pandasutils as pdu\n",
    "\n",
    "\n",
    "\n",
    "# Read recipe inputs\n",
    "model_parameters = dataiku.Dataset(\"model_parameters\")\n",
    "model_parameters_df = model_parameters.get_dataframe()\n",
    "\n",
    "\n",
    "\n",
    "best_curvature = dataiku.Dataset(\"best_curvature\")\n",
    "best_curvature_df = best_curvature.get_dataframe()\n",
    "\n",
    "del best_curvature_df['Adj R-Sq']\n",
    "\n",
    "price_per_Rx = 1500\n",
    "total_200_syr_sample = 153\n",
    "total_300_syr_sample = 206"
   ]
  },
  {
   "cell_type": "code",
   "execution_count": 0,
   "metadata": {},
   "outputs": [],
   "source": [
    "Variable = ['total_200_syr_sample_t','total_300_syr_sample_t']\n",
    "segments = list(best_curvature_df['Segment'].unique())\n",
    "\n",
    "#reading to calculate the sum alpha\n",
    "Variable_1 = ['total_sales_1', 'total_sales_2', 'total_sales_3']"
   ]
  },
  {
   "cell_type": "code",
   "execution_count": 0,
   "metadata": {},
   "outputs": [],
   "source": [
    "#Sum alpha calculation\n",
    "Filter_Data = model_parameters_df[model_parameters_df['Variable'].isin(Variable_1)]\n",
    "Sum_alpha = Filter_Data.groupby(['Segment'])['Coeff'].sum().reset_index()\n",
    "Sum_alpha.columns= ['Segment','sum_alpha']"
   ]
  },
  {
   "cell_type": "code",
   "execution_count": 0,
   "metadata": {},
   "outputs": [],
   "source": [
    "#long term curvature calculation\n",
    "\n",
    "Filter_Data_1 = model_parameters_df[model_parameters_df['Variable'].isin(Variable)]\n",
    "Coeff_data = pd.merge(Filter_Data_1,best_curvature_df, how = 'left', on = ['Variable','Segment'])\n",
    "\n",
    "Coeff_data.drop(Coeff_data.columns[3:7], axis=1, inplace=True)"
   ]
  },
  {
   "cell_type": "code",
   "execution_count": 0,
   "metadata": {},
   "outputs": [],
   "source": [
    "print(Coeff_data)"
   ]
  },
  {
   "cell_type": "code",
   "execution_count": 0,
   "metadata": {},
   "outputs": [],
   "source": [
    "# Final response curve data\n",
    "\n",
    "Final_Data = pd.merge(Coeff_data,Sum_alpha, how = 'left', on = 'Segment')\n",
    "\n",
    "Final_Data['longterm_A'] = Final_Data['Coeff']/(1-Final_Data['sum_alpha'])\n",
    "Final_Data['longterm_C'] = Final_Data['Curvature']*(1+1/Final_Data['Lambda']+1/Final_Data['Lambda']**2)\n",
    "Final_Data['Key'] = 1"
   ]
  },
  {
   "cell_type": "code",
   "execution_count": 0,
   "metadata": {},
   "outputs": [],
   "source": [
    "#import itertools\n",
    "# for element in itertools.product(segments, Response, Variable):\n",
    "#     print(element)\n",
    "\n",
    "price_per_Rx = 1500\n",
    "\n",
    "Response = pd.DataFrame(list(np.arange(0,1,.02)))\n",
    "Response.columns = ['Promotion']\n",
    "Response['Key'] = 1\n",
    "\n",
    "Response_Curve = pd.merge(Final_Data,Response, how= 'inner', on= 'Key')\n",
    "del Response_Curve['Key']\n",
    "\n",
    "# Response Curve setup\n",
    "Response_Curve['Annual_Promotion'] = 12*Response_Curve['Promotion']\n",
    "Response_Curve['Impact'] = Response_Curve['longterm_A']*(1-np.exp(-1*Response_Curve['longterm_C']*Response_Curve['Promotion']))\n",
    "Response_Curve['Annual_Impact'] = 12*Response_Curve['Impact']\n",
    "\n",
    "#declare the price  per Rx based on the brand cost\n",
    "Response_Curve['Revenue'] = Response_Curve['Impact']*price_per_Rx\n",
    "Response_Curve['Annual_Revenue'] = 12*Response_Curve['Revenue']\n",
    "\n",
    "# declare the cost of the sample per unit\n",
    "Response_Curve['Per_Unit_Sample_Cost'] = np.where((Response_Curve['Variable'] == 'total_200_syr_sample_t'), total_200_syr_sample, total_300_syr_sample)\n",
    "Response_Curve['Total_Cost'] = Response_Curve['Per_Unit_Sample_Cost']*Response_Curve['Promotion']\n",
    "Response_Curve['Total_Annual_Cost'] = 12*Response_Curve['Total_Cost']\n",
    "\n",
    "#calculating profit based on the promotion given\n",
    "Response_Curve['Profit'] = Response_Curve['Revenue'] - Response_Curve['Total_Cost']\n",
    "Response_Curve['Annual_Profit'] = 12*Response_Curve['Profit']"
   ]
  },
  {
   "cell_type": "code",
   "execution_count": 0,
   "metadata": {},
   "outputs": [],
   "source": [
    "#Response_Curve['Optimal_Point'] = Response_Curve['Profit'] < Response_Curve['Profit'].shift()\n",
    "#Response_Curve['Optimal_Point'] = Response_Curve.groupby(['Segment','Variable']).size().reset_index().groupby('Profit')[[0]].max()\n",
    "\n",
    "Response_Curve_1 = Response_Curve.groupby(['Segment','Variable'])['Annual_Profit'].max().reset_index()\n",
    "Response_Curve_1['Optimal_Point'] = 1"
   ]
  },
  {
   "cell_type": "code",
   "execution_count": 0,
   "metadata": {},
   "outputs": [],
   "source": [
    "Final_Response = pd.merge(Response_Curve,Response_Curve_1, how = 'left', on = ['Segment','Variable','Annual_Profit'])\n",
    "Final_Response.fillna(0, inplace=True)\n",
    "\n",
    "# calculating optimal at different point\n",
    "Final_Response['Optimal_Per_HCP_per_month_at_100%_mROI'] = (-1/Final_Response['longterm_C'])*(np.log((0*Final_Response['Per_Unit_Sample_Cost']+Final_Response['Per_Unit_Sample_Cost'])/(Final_Response['longterm_A']*price_per_Rx*Final_Response['longterm_C'])))\n",
    "Final_Response['Optimal_Per_HCP_per_month_at_125%_mROI'] = (-1/Final_Response['longterm_C'])*(np.log((0.25*Final_Response['Per_Unit_Sample_Cost']+Final_Response['Per_Unit_Sample_Cost'])/(Final_Response['longterm_A']*price_per_Rx*Final_Response['longterm_C'])))\n",
    "Final_Response['Optimal_Per_HCP_per_month_at_150%_mROI'] = (-1/Final_Response['longterm_C'])*(np.log((0.5*Final_Response['Per_Unit_Sample_Cost']+Final_Response['Per_Unit_Sample_Cost'])/(Final_Response['longterm_A']*price_per_Rx*Final_Response['longterm_C'])))\n",
    "Final_Response['Optimal_Per_HCP_per_month_at_175%_mROI'] = (-1/Final_Response['longterm_C'])*(np.log((0.75*Final_Response['Per_Unit_Sample_Cost']+Final_Response['Per_Unit_Sample_Cost'])/(Final_Response['longterm_A']*price_per_Rx*Final_Response['longterm_C'])))\n",
    "Final_Response['Optimal_Per_HCP_per_month_at_200%_mROI'] = (-1/Final_Response['longterm_C'])*(np.log((1*Final_Response['Per_Unit_Sample_Cost']+Final_Response['Per_Unit_Sample_Cost'])/(Final_Response['longterm_A']*price_per_Rx*Final_Response['longterm_C'])))\n",
    "\n",
    "#Keeping Optimal point only\n",
    "Final_Response = Final_Response[Final_Response['Optimal_Point'] == 1]\n",
    "\n",
    "del Final_Response['Impact'],Final_Response['Total_Cost'],Final_Response['Profit'],Final_Response['Revenue'],Final_Response['Optimal_Point']"
   ]
  },
  {
   "cell_type": "code",
   "execution_count": 0,
   "metadata": {},
   "outputs": [],
   "source": [
    "print(Final_Response)"
   ]
  },
  {
   "cell_type": "code",
   "execution_count": 0,
   "metadata": {},
   "outputs": [],
   "source": [
    "# Compute recipe outputs from inputs\n",
    "# TODO: Replace this part by your actual code that computes the output, as a Pandas dataframe\n",
    "# NB: DSS also supports other kinds of APIs for reading and writing data. Please see doc.\n",
    "\n",
    "\n",
    "\n",
    "optimal_cal_df = Final_Response # For this sample code, simply copy input to output\n",
    "\n",
    "\n",
    "\n",
    "\n",
    "# Write recipe outputs\n",
    "optimal_cal = dataiku.Dataset(\"optimal_cal\")\n",
    "optimal_cal.write_with_schema(optimal_cal_df)"
   ]
  }
 ],
 "metadata": {
  "associatedRecipe": "compute_optimal_cal",
  "creator": "can.tan",
  "customFields": {},
  "kernelspec": {
   "display_name": "Python 2",
   "language": "python",
   "name": "python2"
  },
  "language_info": {
   "codemirror_mode": {
    "name": "ipython",
    "version": 2
   },
   "file_extension": ".py",
   "mimetype": "text/x-python",
   "name": "python",
   "nbconvert_exporter": "python",
   "pygments_lexer": "ipython2",
   "version": "2.7.5"
  },
  "tags": [
   "recipe-editor"
  ]
 },
 "nbformat": 4,
 "nbformat_minor": 1
}
